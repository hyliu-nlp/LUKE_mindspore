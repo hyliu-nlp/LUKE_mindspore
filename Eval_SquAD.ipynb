{
 "cells": [
  {
   "cell_type": "markdown",
   "id": "77d72c1c",
   "metadata": {},
   "source": [
    "# 数据集创建&处理"
   ]
  },
  {
   "cell_type": "code",
   "execution_count": 1,
   "id": "a35a354e",
   "metadata": {},
   "outputs": [],
   "source": [
    "# from modelarts.session import Session\n",
    "# session = Session()\n",
    "# session.obs.download_file(src_obs_file=\"obs://llddy/LUKE_mindspore/data/dev_data.npy\", dst_local_dir=\"./dev_data.npy\")"
   ]
  },
  {
   "cell_type": "code",
   "execution_count": 2,
   "id": "324e9f33",
   "metadata": {},
   "outputs": [
    {
     "name": "stderr",
     "output_type": "stream",
     "text": [
      "[WARNING] ME(9957:139710232549184,MainProcess):2021-10-13-14:18:18.618.58 [mindspore/run_check/_check_version.py:181] Cuda ['10.1', '11.1'] version(need by mindspore-gpu) is not found, please confirm that the path of cuda is set to the env LD_LIBRARY_PATH, please refer to the installation guidelines: https://www.mindspore.cn/install\n",
      "[WARNING] ME(9957:139710232549184,MainProcess):2021-10-13-14:18:18.695.92 [mindspore/run_check/_check_version.py:181] Cuda ['10.1', '11.1'] version(need by mindspore-gpu) is not found, please confirm that the path of cuda is set to the env LD_LIBRARY_PATH, please refer to the installation guidelines: https://www.mindspore.cn/install\n"
     ]
    }
   ],
   "source": [
    "from dataset.build_dataset import build_dataset\n",
    "import mindspore.dataset as ds\n",
    "import os\n",
    "import numpy as np\n",
    "from mindspore.mindrecord import FileWriter\n",
    "import json"
   ]
  },
  {
   "cell_type": "markdown",
   "id": "3c8f8d1f",
   "metadata": {},
   "source": [
    "# 创建mindrecord"
   ]
  },
  {
   "cell_type": "code",
   "execution_count": 3,
   "id": "d7b23234",
   "metadata": {},
   "outputs": [],
   "source": [
    "import numpy as np\n",
    "FEATURES_FILE = \"./data/dev_data1.npy\"\n",
    "features = np.load(FEATURES_FILE)\n",
    "# print(features)"
   ]
  },
  {
   "cell_type": "code",
   "execution_count": 4,
   "id": "1c54e614",
   "metadata": {},
   "outputs": [
    {
     "data": {
      "text/plain": [
       "array(['{\"unique_id\": 1000000000, \"example_index\": 0, \"doc_span_index\": 0, \"tokens\": [\"<s>\", \"\\\\u0120Which\", \"\\\\u0120NFL\", \"\\\\u0120team\", \"\\\\u0120represented\", \"\\\\u0120the\", \"\\\\u0120AFC\", \"\\\\u0120at\", \"\\\\u0120Super\", \"\\\\u0120Bowl\", \"\\\\u012050\", \"?\", \"</s>\", \"</s>\", \"\\\\u0120Super\", \"\\\\u0120Bowl\", \"\\\\u012050\", \"\\\\u0120was\", \"\\\\u0120an\", \"\\\\u0120American\", \"\\\\u0120football\", \"\\\\u0120game\", \"\\\\u0120to\", \"\\\\u0120determine\", \"\\\\u0120the\", \"\\\\u0120champion\", \"\\\\u0120of\", \"\\\\u0120the\", \"\\\\u0120National\", \"\\\\u0120Football\", \"\\\\u0120League\", \"\\\\u0120(\", \"NFL\", \")\", \"\\\\u0120for\", \"\\\\u0120the\", \"\\\\u01202015\", \"\\\\u0120season\", \".\", \"\\\\u0120The\", \"\\\\u0120American\", \"\\\\u0120Football\", \"\\\\u0120Conference\", \"\\\\u0120(\", \"A\", \"FC\", \")\", \"\\\\u0120champion\", \"\\\\u0120Denver\", \"\\\\u0120Broncos\", \"\\\\u0120defeated\", \"\\\\u0120the\", \"\\\\u0120National\", \"\\\\u0120Football\", \"\\\\u0120Conference\", \"\\\\u0120(\", \"N\", \"FC\", \")\", \"\\\\u0120champion\", \"\\\\u0120Carolina\", \"\\\\u0120Panthers\", \"\\\\u012024\", \"\\\\u00e2\\\\u0122\\\\u0135\", \"10\", \"\\\\u0120to\", \"\\\\u0120earn\", \"\\\\u0120their\", \"\\\\u0120third\", \"\\\\u0120Super\", \"\\\\u0120Bowl\", \"\\\\u0120title\", \".\", \"\\\\u0120The\", \"\\\\u0120game\", \"\\\\u0120was\", \"\\\\u0120played\", \"\\\\u0120on\", \"\\\\u0120February\", \"\\\\u01207\", \",\", \"\\\\u01202016\", \",\", \"\\\\u0120at\", \"\\\\u0120Levi\", \"\\'s\", \"\\\\u0120Stadium\", \"\\\\u0120in\", \"\\\\u0120the\", \"\\\\u0120San\", \"\\\\u0120Francisco\", \"\\\\u0120Bay\", \"\\\\u0120Area\", \"\\\\u0120at\", \"\\\\u0120Santa\", \"\\\\u0120Clara\", \",\", \"\\\\u0120California\", \".\", \"\\\\u0120As\", \"\\\\u0120this\", \"\\\\u0120was\", \"\\\\u0120the\", \"\\\\u012050\", \"th\", \"\\\\u0120Super\", \"\\\\u0120Bowl\", \",\", \"\\\\u0120the\", \"\\\\u0120league\", \"\\\\u0120emphasized\", \"\\\\u0120the\", \"\\\\u0120\\\\\"\", \"gold\", \"en\", \"\\\\u0120anniversary\", \"\\\\\"\", \"\\\\u0120with\", \"\\\\u0120various\", \"\\\\u0120gold\", \"-\", \"themed\", \"\\\\u0120initiatives\", \",\", \"\\\\u0120as\", \"\\\\u0120well\", \"\\\\u0120as\", \"\\\\u0120temporarily\", \"\\\\u0120suspending\", \"\\\\u0120the\", \"\\\\u0120tradition\", \"\\\\u0120of\", \"\\\\u0120naming\", \"\\\\u0120each\", \"\\\\u0120Super\", \"\\\\u0120Bowl\", \"\\\\u0120game\", \"\\\\u0120with\", \"\\\\u0120Roman\", \"\\\\u0120numer\", \"als\", \"\\\\u0120(\", \"under\", \"\\\\u0120which\", \"\\\\u0120the\", \"\\\\u0120game\", \"\\\\u0120would\", \"\\\\u0120have\", \"\\\\u0120been\", \"\\\\u0120known\", \"\\\\u0120as\", \"\\\\u0120\\\\\"\", \"Super\", \"\\\\u0120Bowl\", \"\\\\u0120L\", \"\\\\\"),\", \"\\\\u0120so\", \"\\\\u0120that\", \"\\\\u0120the\", \"\\\\u0120logo\", \"\\\\u0120could\", \"\\\\u0120prominently\", \"\\\\u0120feature\", \"\\\\u0120the\", \"\\\\u0120Arabic\", \"\\\\u0120numer\", \"als\", \"\\\\u012050\", \".\", \"</s>\"], \"mentions\": [[1989, 7, 9], [1989, 0, 2], [47, 5, 7], [78, 14, 17], [47, 26, 28], [1362, 34, 36], [2459, 46, 48], [1989, 55, 57], [93614, 70, 73], [1470, 75, 79], [27, 83, 84], [1989, 91, 93], [1989, 120, 122]], \"token_to_orig_map\": {\"14\": 0, \"15\": 1, \"16\": 2, \"17\": 3, \"18\": 4, \"19\": 5, \"20\": 6, \"21\": 7, \"22\": 8, \"23\": 9, \"24\": 10, \"25\": 11, \"26\": 12, \"27\": 13, \"28\": 14, \"29\": 15, \"30\": 16, \"31\": 17, \"32\": 17, \"33\": 17, \"34\": 18, \"35\": 19, \"36\": 20, \"37\": 21, \"38\": 21, \"39\": 22, \"40\": 23, \"41\": 24, \"42\": 25, \"43\": 26, \"44\": 26, \"45\": 26, \"46\": 26, \"47\": 27, \"48\": 28, \"49\": 29, \"50\": 30, \"51\": 31, \"52\": 32, \"53\": 33, \"54\": 34, \"55\": 35, \"56\": 35, \"57\": 35, \"58\": 35, \"59\": 36, \"60\": 37, \"61\": 38, \"62\": 39, \"63\": 39, \"64\": 39, \"65\": 40, \"66\": 41, \"67\": 42, \"68\": 43, \"69\": 44, \"70\": 45, \"71\": 46, \"72\": 46, \"73\": 47, \"74\": 48, \"75\": 49, \"76\": 50, \"77\": 51, \"78\": 52, \"79\": 53, \"80\": 53, \"81\": 54, \"82\": 54, \"83\": 55, \"84\": 56, \"85\": 56, \"86\": 57, \"87\": 58, \"88\": 59, \"89\": 60, \"90\": 61, \"91\": 62, \"92\": 63, \"93\": 64, \"94\": 65, \"95\": 66, \"96\": 66, \"97\": 67, \"98\": 67, \"99\": 68, \"100\": 69, \"101\": 70, \"102\": 71, \"103\": 72, \"104\": 72, \"105\": 73, \"106\": 74, \"107\": 74, \"108\": 75, \"109\": 76, \"110\": 77, \"111\": 78, \"112\": 79, \"113\": 79, \"114\": 79, \"115\": 80, \"116\": 80, \"117\": 81, \"118\": 82, \"119\": 83, \"120\": 83, \"121\": 83, \"122\": 84, \"123\": 84, \"124\": 85, \"125\": 86, \"126\": 87, \"127\": 88, \"128\": 89, \"129\": 90, \"130\": 91, \"131\": 92, \"132\": 93, \"133\": 94, \"134\": 95, \"135\": 96, \"136\": 97, \"137\": 98, \"138\": 99, \"139\": 100, \"140\": 100, \"141\": 101, \"142\": 101, \"143\": 102, \"144\": 103, \"145\": 104, \"146\": 105, \"147\": 106, \"148\": 107, \"149\": 108, \"150\": 109, \"151\": 110, \"152\": 110, \"153\": 111, \"154\": 112, \"155\": 112, \"156\": 113, \"157\": 114, \"158\": 115, \"159\": 116, \"160\": 117, \"161\": 118, \"162\": 119, \"163\": 120, \"164\": 121, \"165\": 122, \"166\": 122, \"167\": 123, \"168\": 123}, \"token_is_max_context\": {\"14\": true, \"15\": true, \"16\": true, \"17\": true, \"18\": true, \"19\": true, \"20\": true, \"21\": true, \"22\": true, \"23\": true, \"24\": true, \"25\": true, \"26\": true, \"27\": true, \"28\": true, \"29\": true, \"30\": true, \"31\": true, \"32\": true, \"33\": true, \"34\": true, \"35\": true, \"36\": true, \"37\": true, \"38\": true, \"39\": true, \"40\": true, \"41\": true, \"42\": true, \"43\": true, \"44\": true, \"45\": true, \"46\": true, \"47\": true, \"48\": true, \"49\": true, \"50\": true, \"51\": true, \"52\": true, \"53\": true, \"54\": true, \"55\": true, \"56\": true, \"57\": true, \"58\": true, \"59\": true, \"60\": true, \"61\": true, \"62\": true, \"63\": true, \"64\": true, \"65\": true, \"66\": true, \"67\": true, \"68\": true, \"69\": true, \"70\": true, \"71\": true, \"72\": true, \"73\": true, \"74\": true, \"75\": true, \"76\": true, \"77\": true, \"78\": true, \"79\": true, \"80\": true, \"81\": true, \"82\": true, \"83\": true, \"84\": true, \"85\": true, \"86\": true, \"87\": true, \"88\": true, \"89\": true, \"90\": true, \"91\": true, \"92\": true, \"93\": true, \"94\": true, \"95\": true, \"96\": true, \"97\": true, \"98\": true, \"99\": true, \"100\": true, \"101\": true, \"102\": true, \"103\": true, \"104\": true, \"105\": true, \"106\": true, \"107\": true, \"108\": true, \"109\": true, \"110\": true, \"111\": true, \"112\": true, \"113\": true, \"114\": true, \"115\": true, \"116\": true, \"117\": true, \"118\": true, \"119\": true, \"120\": true, \"121\": true, \"122\": true, \"123\": true, \"124\": true, \"125\": true, \"126\": true, \"127\": true, \"128\": true, \"129\": true, \"130\": true, \"131\": true, \"132\": true, \"133\": true, \"134\": true, \"135\": true, \"136\": true, \"137\": true, \"138\": true, \"139\": true, \"140\": true, \"141\": true, \"142\": true, \"143\": true, \"144\": true, \"145\": true, \"146\": true, \"147\": true, \"148\": true, \"149\": true, \"150\": true, \"151\": true, \"152\": true, \"153\": true, \"154\": true, \"155\": true, \"156\": true, \"157\": true, \"158\": true, \"159\": true, \"160\": true, \"161\": true, \"162\": true, \"163\": true, \"164\": true, \"165\": true, \"166\": true, \"167\": true, \"168\": true}, \"word_ids\": [0, 6834, 1485, 165, 4625, 5, 9601, 23, 1582, 2616, 654, 116, 2, 2, 1582, 2616, 654, 21, 41, 470, 1037, 177, 7, 3094, 5, 2234, 9, 5, 496, 3910, 815, 36, 12048, 43, 13, 5, 570, 191, 4, 20, 470, 3910, 2815, 36, 250, 5268, 43, 2234, 4465, 7609, 5125, 5, 496, 3910, 2815, 36, 487, 5268, 43, 2234, 1961, 6495, 706, 2383, 698, 7, 4073, 49, 371, 1582, 2616, 1270, 4, 20, 177, 21, 702, 15, 902, 262, 6, 336, 6, 23, 20050, 18, 2689, 11, 5, 764, 2659, 1501, 4121, 23, 2005, 13606, 6, 886, 4, 287, 42, 21, 5, 654, 212, 1582, 2616, 6, 5, 1267, 12843, 5, 22, 16472, 225, 4038, 113, 19, 1337, 1637, 12, 14694, 5287, 6, 25, 157, 25, 8059, 25462, 5, 5589, 9, 14221, 349, 1582, 2616, 177, 19, 7733, 36247, 1536, 36, 5087, 61, 5, 177, 74, 33, 57, 684, 25, 22, 16713, 2616, 226, 16844, 98, 14, 5, 6655, 115, 26584, 1905, 5, 19645, 36247, 1536, 654, 4, 2], \"word_segment_ids\": [0, 0, 0, 0, 0, 0, 0, 0, 0, 0, 0, 0, 0, 0, 0, 0, 0, 0, 0, 0, 0, 0, 0, 0, 0, 0, 0, 0, 0, 0, 0, 0, 0, 0, 0, 0, 0, 0, 0, 0, 0, 0, 0, 0, 0, 0, 0, 0, 0, 0, 0, 0, 0, 0, 0, 0, 0, 0, 0, 0, 0, 0, 0, 0, 0, 0, 0, 0, 0, 0, 0, 0, 0, 0, 0, 0, 0, 0, 0, 0, 0, 0, 0, 0, 0, 0, 0, 0, 0, 0, 0, 0, 0, 0, 0, 0, 0, 0, 0, 0, 0, 0, 0, 0, 0, 0, 0, 0, 0, 0, 0, 0, 0, 0, 0, 0, 0, 0, 0, 0, 0, 0, 0, 0, 0, 0, 0, 0, 0, 0, 0, 0, 0, 0, 0, 0, 0, 0, 0, 0, 0, 0, 0, 0, 0, 0, 0, 0, 0, 0, 0, 0, 0, 0, 0, 0, 0, 0, 0, 0, 0, 0, 0, 0, 0, 0, 0, 0, 0, 0], \"word_attention_mask\": [1, 1, 1, 1, 1, 1, 1, 1, 1, 1, 1, 1, 1, 1, 1, 1, 1, 1, 1, 1, 1, 1, 1, 1, 1, 1, 1, 1, 1, 1, 1, 1, 1, 1, 1, 1, 1, 1, 1, 1, 1, 1, 1, 1, 1, 1, 1, 1, 1, 1, 1, 1, 1, 1, 1, 1, 1, 1, 1, 1, 1, 1, 1, 1, 1, 1, 1, 1, 1, 1, 1, 1, 1, 1, 1, 1, 1, 1, 1, 1, 1, 1, 1, 1, 1, 1, 1, 1, 1, 1, 1, 1, 1, 1, 1, 1, 1, 1, 1, 1, 1, 1, 1, 1, 1, 1, 1, 1, 1, 1, 1, 1, 1, 1, 1, 1, 1, 1, 1, 1, 1, 1, 1, 1, 1, 1, 1, 1, 1, 1, 1, 1, 1, 1, 1, 1, 1, 1, 1, 1, 1, 1, 1, 1, 1, 1, 1, 1, 1, 1, 1, 1, 1, 1, 1, 1, 1, 1, 1, 1, 1, 1, 1, 1, 1, 1, 1, 1, 1, 1], \"entity_ids\": [1989, 1989, 47, 78, 47, 1362, 2459, 1989, 93614, 1470, 27, 1989, 1989], \"entity_position_ids\": [[8, 9, -1, -1, -1, -1, -1, -1, -1, -1, -1, -1, -1, -1, -1, -1, -1, -1, -1, -1, -1, -1, -1, -1, -1, -1, -1, -1, -1, -1], [14, 15, -1, -1, -1, -1, -1, -1, -1, -1, -1, -1, -1, -1, -1, -1, -1, -1, -1, -1, -1, -1, -1, -1, -1, -1, -1, -1, -1, -1], [19, 20, -1, -1, -1, -1, -1, -1, -1, -1, -1, -1, -1, -1, -1, -1, -1, -1, -1, -1, -1, -1, -1, -1, -1, -1, -1, -1, -1, -1], [28, 29, 30, -1, -1, -1, -1, -1, -1, -1, -1, -1, -1, -1, -1, -1, -1, -1, -1, -1, -1, -1, -1, -1, -1, -1, -1, -1, -1, -1], [40, 41, -1, -1, -1, -1, -1, -1, -1, -1, -1, -1, -1, -1, -1, -1, -1, -1, -1, -1, -1, -1, -1, -1, -1, -1, -1, -1, -1, -1], [48, 49, -1, -1, -1, -1, -1, -1, -1, -1, -1, -1, -1, -1, -1, -1, -1, -1, -1, -1, -1, -1, -1, -1, -1, -1, -1, -1, -1, -1], [60, 61, -1, -1, -1, -1, -1, -1, -1, -1, -1, -1, -1, -1, -1, -1, -1, -1, -1, -1, -1, -1, -1, -1, -1, -1, -1, -1, -1, -1], [69, 70, -1, -1, -1, -1, -1, -1, -1, -1, -1, -1, -1, -1, -1, -1, -1, -1, -1, -1, -1, -1, -1, -1, -1, -1, -1, -1, -1, -1], [84, 85, 86, -1, -1, -1, -1, -1, -1, -1, -1, -1, -1, -1, -1, -1, -1, -1, -1, -1, -1, -1, -1, -1, -1, -1, -1, -1, -1, -1], [89, 90, 91, 92, -1, -1, -1, -1, -1, -1, -1, -1, -1, -1, -1, -1, -1, -1, -1, -1, -1, -1, -1, -1, -1, -1, -1, -1, -1, -1], [97, -1, -1, -1, -1, -1, -1, -1, -1, -1, -1, -1, -1, -1, -1, -1, -1, -1, -1, -1, -1, -1, -1, -1, -1, -1, -1, -1, -1, -1], [105, 106, -1, -1, -1, -1, -1, -1, -1, -1, -1, -1, -1, -1, -1, -1, -1, -1, -1, -1, -1, -1, -1, -1, -1, -1, -1, -1, -1, -1], [134, 135, -1, -1, -1, -1, -1, -1, -1, -1, -1, -1, -1, -1, -1, -1, -1, -1, -1, -1, -1, -1, -1, -1, -1, -1, -1, -1, -1, -1]], \"entity_segment_ids\": [0, 0, 0, 0, 0, 0, 0, 0, 0, 0, 0, 0, 0], \"entity_attention_mask\": [1, 1, 1, 1, 1, 1, 1, 1, 1, 1, 1, 1, 1], \"start_positions\": [], \"end_positions\": []}',\n",
       "       '{\"unique_id\": 1000000001, \"example_index\": 1, \"doc_span_index\": 0, \"tokens\": [\"<s>\", \"\\\\u0120Which\", \"\\\\u0120NFL\", \"\\\\u0120team\", \"\\\\u0120represented\", \"\\\\u0120the\", \"\\\\u0120NFC\", \"\\\\u0120at\", \"\\\\u0120Super\", \"\\\\u0120Bowl\", \"\\\\u012050\", \"?\", \"</s>\", \"</s>\", \"\\\\u0120Super\", \"\\\\u0120Bowl\", \"\\\\u012050\", \"\\\\u0120was\", \"\\\\u0120an\", \"\\\\u0120American\", \"\\\\u0120football\", \"\\\\u0120game\", \"\\\\u0120to\", \"\\\\u0120determine\", \"\\\\u0120the\", \"\\\\u0120champion\", \"\\\\u0120of\", \"\\\\u0120the\", \"\\\\u0120National\", \"\\\\u0120Football\", \"\\\\u0120League\", \"\\\\u0120(\", \"NFL\", \")\", \"\\\\u0120for\", \"\\\\u0120the\", \"\\\\u01202015\", \"\\\\u0120season\", \".\", \"\\\\u0120The\", \"\\\\u0120American\", \"\\\\u0120Football\", \"\\\\u0120Conference\", \"\\\\u0120(\", \"A\", \"FC\", \")\", \"\\\\u0120champion\", \"\\\\u0120Denver\", \"\\\\u0120Broncos\", \"\\\\u0120defeated\", \"\\\\u0120the\", \"\\\\u0120National\", \"\\\\u0120Football\", \"\\\\u0120Conference\", \"\\\\u0120(\", \"N\", \"FC\", \")\", \"\\\\u0120champion\", \"\\\\u0120Carolina\", \"\\\\u0120Panthers\", \"\\\\u012024\", \"\\\\u00e2\\\\u0122\\\\u0135\", \"10\", \"\\\\u0120to\", \"\\\\u0120earn\", \"\\\\u0120their\", \"\\\\u0120third\", \"\\\\u0120Super\", \"\\\\u0120Bowl\", \"\\\\u0120title\", \".\", \"\\\\u0120The\", \"\\\\u0120game\", \"\\\\u0120was\", \"\\\\u0120played\", \"\\\\u0120on\", \"\\\\u0120February\", \"\\\\u01207\", \",\", \"\\\\u01202016\", \",\", \"\\\\u0120at\", \"\\\\u0120Levi\", \"\\'s\", \"\\\\u0120Stadium\", \"\\\\u0120in\", \"\\\\u0120the\", \"\\\\u0120San\", \"\\\\u0120Francisco\", \"\\\\u0120Bay\", \"\\\\u0120Area\", \"\\\\u0120at\", \"\\\\u0120Santa\", \"\\\\u0120Clara\", \",\", \"\\\\u0120California\", \".\", \"\\\\u0120As\", \"\\\\u0120this\", \"\\\\u0120was\", \"\\\\u0120the\", \"\\\\u012050\", \"th\", \"\\\\u0120Super\", \"\\\\u0120Bowl\", \",\", \"\\\\u0120the\", \"\\\\u0120league\", \"\\\\u0120emphasized\", \"\\\\u0120the\", \"\\\\u0120\\\\\"\", \"gold\", \"en\", \"\\\\u0120anniversary\", \"\\\\\"\", \"\\\\u0120with\", \"\\\\u0120various\", \"\\\\u0120gold\", \"-\", \"themed\", \"\\\\u0120initiatives\", \",\", \"\\\\u0120as\", \"\\\\u0120well\", \"\\\\u0120as\", \"\\\\u0120temporarily\", \"\\\\u0120suspending\", \"\\\\u0120the\", \"\\\\u0120tradition\", \"\\\\u0120of\", \"\\\\u0120naming\", \"\\\\u0120each\", \"\\\\u0120Super\", \"\\\\u0120Bowl\", \"\\\\u0120game\", \"\\\\u0120with\", \"\\\\u0120Roman\", \"\\\\u0120numer\", \"als\", \"\\\\u0120(\", \"under\", \"\\\\u0120which\", \"\\\\u0120the\", \"\\\\u0120game\", \"\\\\u0120would\", \"\\\\u0120have\", \"\\\\u0120been\", \"\\\\u0120known\", \"\\\\u0120as\", \"\\\\u0120\\\\\"\", \"Super\", \"\\\\u0120Bowl\", \"\\\\u0120L\", \"\\\\\"),\", \"\\\\u0120so\", \"\\\\u0120that\", \"\\\\u0120the\", \"\\\\u0120logo\", \"\\\\u0120could\", \"\\\\u0120prominently\", \"\\\\u0120feature\", \"\\\\u0120the\", \"\\\\u0120Arabic\", \"\\\\u0120numer\", \"als\", \"\\\\u012050\", \".\", \"</s>\"], \"mentions\": [[1989, 7, 9], [1989, 0, 2], [47, 5, 7], [78, 14, 17], [47, 26, 28], [1362, 34, 36], [2459, 46, 48], [1989, 55, 57], [93614, 70, 73], [1470, 75, 79], [27, 83, 84], [1989, 91, 93], [1989, 120, 122]], \"token_to_orig_map\": {\"14\": 0, \"15\": 1, \"16\": 2, \"17\": 3, \"18\": 4, \"19\": 5, \"20\": 6, \"21\": 7, \"22\": 8, \"23\": 9, \"24\": 10, \"25\": 11, \"26\": 12, \"27\": 13, \"28\": 14, \"29\": 15, \"30\": 16, \"31\": 17, \"32\": 17, \"33\": 17, \"34\": 18, \"35\": 19, \"36\": 20, \"37\": 21, \"38\": 21, \"39\": 22, \"40\": 23, \"41\": 24, \"42\": 25, \"43\": 26, \"44\": 26, \"45\": 26, \"46\": 26, \"47\": 27, \"48\": 28, \"49\": 29, \"50\": 30, \"51\": 31, \"52\": 32, \"53\": 33, \"54\": 34, \"55\": 35, \"56\": 35, \"57\": 35, \"58\": 35, \"59\": 36, \"60\": 37, \"61\": 38, \"62\": 39, \"63\": 39, \"64\": 39, \"65\": 40, \"66\": 41, \"67\": 42, \"68\": 43, \"69\": 44, \"70\": 45, \"71\": 46, \"72\": 46, \"73\": 47, \"74\": 48, \"75\": 49, \"76\": 50, \"77\": 51, \"78\": 52, \"79\": 53, \"80\": 53, \"81\": 54, \"82\": 54, \"83\": 55, \"84\": 56, \"85\": 56, \"86\": 57, \"87\": 58, \"88\": 59, \"89\": 60, \"90\": 61, \"91\": 62, \"92\": 63, \"93\": 64, \"94\": 65, \"95\": 66, \"96\": 66, \"97\": 67, \"98\": 67, \"99\": 68, \"100\": 69, \"101\": 70, \"102\": 71, \"103\": 72, \"104\": 72, \"105\": 73, \"106\": 74, \"107\": 74, \"108\": 75, \"109\": 76, \"110\": 77, \"111\": 78, \"112\": 79, \"113\": 79, \"114\": 79, \"115\": 80, \"116\": 80, \"117\": 81, \"118\": 82, \"119\": 83, \"120\": 83, \"121\": 83, \"122\": 84, \"123\": 84, \"124\": 85, \"125\": 86, \"126\": 87, \"127\": 88, \"128\": 89, \"129\": 90, \"130\": 91, \"131\": 92, \"132\": 93, \"133\": 94, \"134\": 95, \"135\": 96, \"136\": 97, \"137\": 98, \"138\": 99, \"139\": 100, \"140\": 100, \"141\": 101, \"142\": 101, \"143\": 102, \"144\": 103, \"145\": 104, \"146\": 105, \"147\": 106, \"148\": 107, \"149\": 108, \"150\": 109, \"151\": 110, \"152\": 110, \"153\": 111, \"154\": 112, \"155\": 112, \"156\": 113, \"157\": 114, \"158\": 115, \"159\": 116, \"160\": 117, \"161\": 118, \"162\": 119, \"163\": 120, \"164\": 121, \"165\": 122, \"166\": 122, \"167\": 123, \"168\": 123}, \"token_is_max_context\": {\"14\": true, \"15\": true, \"16\": true, \"17\": true, \"18\": true, \"19\": true, \"20\": true, \"21\": true, \"22\": true, \"23\": true, \"24\": true, \"25\": true, \"26\": true, \"27\": true, \"28\": true, \"29\": true, \"30\": true, \"31\": true, \"32\": true, \"33\": true, \"34\": true, \"35\": true, \"36\": true, \"37\": true, \"38\": true, \"39\": true, \"40\": true, \"41\": true, \"42\": true, \"43\": true, \"44\": true, \"45\": true, \"46\": true, \"47\": true, \"48\": true, \"49\": true, \"50\": true, \"51\": true, \"52\": true, \"53\": true, \"54\": true, \"55\": true, \"56\": true, \"57\": true, \"58\": true, \"59\": true, \"60\": true, \"61\": true, \"62\": true, \"63\": true, \"64\": true, \"65\": true, \"66\": true, \"67\": true, \"68\": true, \"69\": true, \"70\": true, \"71\": true, \"72\": true, \"73\": true, \"74\": true, \"75\": true, \"76\": true, \"77\": true, \"78\": true, \"79\": true, \"80\": true, \"81\": true, \"82\": true, \"83\": true, \"84\": true, \"85\": true, \"86\": true, \"87\": true, \"88\": true, \"89\": true, \"90\": true, \"91\": true, \"92\": true, \"93\": true, \"94\": true, \"95\": true, \"96\": true, \"97\": true, \"98\": true, \"99\": true, \"100\": true, \"101\": true, \"102\": true, \"103\": true, \"104\": true, \"105\": true, \"106\": true, \"107\": true, \"108\": true, \"109\": true, \"110\": true, \"111\": true, \"112\": true, \"113\": true, \"114\": true, \"115\": true, \"116\": true, \"117\": true, \"118\": true, \"119\": true, \"120\": true, \"121\": true, \"122\": true, \"123\": true, \"124\": true, \"125\": true, \"126\": true, \"127\": true, \"128\": true, \"129\": true, \"130\": true, \"131\": true, \"132\": true, \"133\": true, \"134\": true, \"135\": true, \"136\": true, \"137\": true, \"138\": true, \"139\": true, \"140\": true, \"141\": true, \"142\": true, \"143\": true, \"144\": true, \"145\": true, \"146\": true, \"147\": true, \"148\": true, \"149\": true, \"150\": true, \"151\": true, \"152\": true, \"153\": true, \"154\": true, \"155\": true, \"156\": true, \"157\": true, \"158\": true, \"159\": true, \"160\": true, \"161\": true, \"162\": true, \"163\": true, \"164\": true, \"165\": true, \"166\": true, \"167\": true, \"168\": true}, \"word_ids\": [0, 6834, 1485, 165, 4625, 5, 11119, 23, 1582, 2616, 654, 116, 2, 2, 1582, 2616, 654, 21, 41, 470, 1037, 177, 7, 3094, 5, 2234, 9, 5, 496, 3910, 815, 36, 12048, 43, 13, 5, 570, 191, 4, 20, 470, 3910, 2815, 36, 250, 5268, 43, 2234, 4465, 7609, 5125, 5, 496, 3910, 2815, 36, 487, 5268, 43, 2234, 1961, 6495, 706, 2383, 698, 7, 4073, 49, 371, 1582, 2616, 1270, 4, 20, 177, 21, 702, 15, 902, 262, 6, 336, 6, 23, 20050, 18, 2689, 11, 5, 764, 2659, 1501, 4121, 23, 2005, 13606, 6, 886, 4, 287, 42, 21, 5, 654, 212, 1582, 2616, 6, 5, 1267, 12843, 5, 22, 16472, 225, 4038, 113, 19, 1337, 1637, 12, 14694, 5287, 6, 25, 157, 25, 8059, 25462, 5, 5589, 9, 14221, 349, 1582, 2616, 177, 19, 7733, 36247, 1536, 36, 5087, 61, 5, 177, 74, 33, 57, 684, 25, 22, 16713, 2616, 226, 16844, 98, 14, 5, 6655, 115, 26584, 1905, 5, 19645, 36247, 1536, 654, 4, 2], \"word_segment_ids\": [0, 0, 0, 0, 0, 0, 0, 0, 0, 0, 0, 0, 0, 0, 0, 0, 0, 0, 0, 0, 0, 0, 0, 0, 0, 0, 0, 0, 0, 0, 0, 0, 0, 0, 0, 0, 0, 0, 0, 0, 0, 0, 0, 0, 0, 0, 0, 0, 0, 0, 0, 0, 0, 0, 0, 0, 0, 0, 0, 0, 0, 0, 0, 0, 0, 0, 0, 0, 0, 0, 0, 0, 0, 0, 0, 0, 0, 0, 0, 0, 0, 0, 0, 0, 0, 0, 0, 0, 0, 0, 0, 0, 0, 0, 0, 0, 0, 0, 0, 0, 0, 0, 0, 0, 0, 0, 0, 0, 0, 0, 0, 0, 0, 0, 0, 0, 0, 0, 0, 0, 0, 0, 0, 0, 0, 0, 0, 0, 0, 0, 0, 0, 0, 0, 0, 0, 0, 0, 0, 0, 0, 0, 0, 0, 0, 0, 0, 0, 0, 0, 0, 0, 0, 0, 0, 0, 0, 0, 0, 0, 0, 0, 0, 0, 0, 0, 0, 0, 0, 0], \"word_attention_mask\": [1, 1, 1, 1, 1, 1, 1, 1, 1, 1, 1, 1, 1, 1, 1, 1, 1, 1, 1, 1, 1, 1, 1, 1, 1, 1, 1, 1, 1, 1, 1, 1, 1, 1, 1, 1, 1, 1, 1, 1, 1, 1, 1, 1, 1, 1, 1, 1, 1, 1, 1, 1, 1, 1, 1, 1, 1, 1, 1, 1, 1, 1, 1, 1, 1, 1, 1, 1, 1, 1, 1, 1, 1, 1, 1, 1, 1, 1, 1, 1, 1, 1, 1, 1, 1, 1, 1, 1, 1, 1, 1, 1, 1, 1, 1, 1, 1, 1, 1, 1, 1, 1, 1, 1, 1, 1, 1, 1, 1, 1, 1, 1, 1, 1, 1, 1, 1, 1, 1, 1, 1, 1, 1, 1, 1, 1, 1, 1, 1, 1, 1, 1, 1, 1, 1, 1, 1, 1, 1, 1, 1, 1, 1, 1, 1, 1, 1, 1, 1, 1, 1, 1, 1, 1, 1, 1, 1, 1, 1, 1, 1, 1, 1, 1, 1, 1, 1, 1, 1, 1], \"entity_ids\": [1989, 1989, 47, 78, 47, 1362, 2459, 1989, 93614, 1470, 27, 1989, 1989], \"entity_position_ids\": [[8, 9, -1, -1, -1, -1, -1, -1, -1, -1, -1, -1, -1, -1, -1, -1, -1, -1, -1, -1, -1, -1, -1, -1, -1, -1, -1, -1, -1, -1], [14, 15, -1, -1, -1, -1, -1, -1, -1, -1, -1, -1, -1, -1, -1, -1, -1, -1, -1, -1, -1, -1, -1, -1, -1, -1, -1, -1, -1, -1], [19, 20, -1, -1, -1, -1, -1, -1, -1, -1, -1, -1, -1, -1, -1, -1, -1, -1, -1, -1, -1, -1, -1, -1, -1, -1, -1, -1, -1, -1], [28, 29, 30, -1, -1, -1, -1, -1, -1, -1, -1, -1, -1, -1, -1, -1, -1, -1, -1, -1, -1, -1, -1, -1, -1, -1, -1, -1, -1, -1], [40, 41, -1, -1, -1, -1, -1, -1, -1, -1, -1, -1, -1, -1, -1, -1, -1, -1, -1, -1, -1, -1, -1, -1, -1, -1, -1, -1, -1, -1], [48, 49, -1, -1, -1, -1, -1, -1, -1, -1, -1, -1, -1, -1, -1, -1, -1, -1, -1, -1, -1, -1, -1, -1, -1, -1, -1, -1, -1, -1], [60, 61, -1, -1, -1, -1, -1, -1, -1, -1, -1, -1, -1, -1, -1, -1, -1, -1, -1, -1, -1, -1, -1, -1, -1, -1, -1, -1, -1, -1], [69, 70, -1, -1, -1, -1, -1, -1, -1, -1, -1, -1, -1, -1, -1, -1, -1, -1, -1, -1, -1, -1, -1, -1, -1, -1, -1, -1, -1, -1], [84, 85, 86, -1, -1, -1, -1, -1, -1, -1, -1, -1, -1, -1, -1, -1, -1, -1, -1, -1, -1, -1, -1, -1, -1, -1, -1, -1, -1, -1], [89, 90, 91, 92, -1, -1, -1, -1, -1, -1, -1, -1, -1, -1, -1, -1, -1, -1, -1, -1, -1, -1, -1, -1, -1, -1, -1, -1, -1, -1], [97, -1, -1, -1, -1, -1, -1, -1, -1, -1, -1, -1, -1, -1, -1, -1, -1, -1, -1, -1, -1, -1, -1, -1, -1, -1, -1, -1, -1, -1], [105, 106, -1, -1, -1, -1, -1, -1, -1, -1, -1, -1, -1, -1, -1, -1, -1, -1, -1, -1, -1, -1, -1, -1, -1, -1, -1, -1, -1, -1], [134, 135, -1, -1, -1, -1, -1, -1, -1, -1, -1, -1, -1, -1, -1, -1, -1, -1, -1, -1, -1, -1, -1, -1, -1, -1, -1, -1, -1, -1]], \"entity_segment_ids\": [0, 0, 0, 0, 0, 0, 0, 0, 0, 0, 0, 0, 0], \"entity_attention_mask\": [1, 1, 1, 1, 1, 1, 1, 1, 1, 1, 1, 1, 1], \"start_positions\": [], \"end_positions\": []}'],\n",
       "      dtype='<U9911')"
      ]
     },
     "execution_count": 4,
     "metadata": {},
     "output_type": "execute_result"
    }
   ],
   "source": [
    "features"
   ]
  },
  {
   "cell_type": "code",
   "execution_count": null,
   "id": "f53738fd",
   "metadata": {},
   "outputs": [],
   "source": []
  },
  {
   "cell_type": "code",
   "execution_count": 5,
   "id": "93997024",
   "metadata": {},
   "outputs": [],
   "source": [
    "list_dict = []\n",
    "for item in features:\n",
    "    dict_temp = json.loads(item)\n",
    "    list_dict.append(dict_temp)"
   ]
  },
  {
   "cell_type": "code",
   "execution_count": 6,
   "id": "83e28b13",
   "metadata": {},
   "outputs": [
    {
     "data": {
      "text/plain": [
       "170"
      ]
     },
     "execution_count": 6,
     "metadata": {},
     "output_type": "execute_result"
    }
   ],
   "source": [
    "len(list_dict[0]['word_ids'])"
   ]
  },
  {
   "cell_type": "code",
   "execution_count": 7,
   "id": "37ccec81",
   "metadata": {},
   "outputs": [
    {
     "data": {
      "text/plain": [
       "MSRStatus.SUCCESS"
      ]
     },
     "execution_count": 7,
     "metadata": {},
     "output_type": "execute_result"
    }
   ],
   "source": [
    "FEATURES_FILE = \"./data/dev_data.npy\"\n",
    "features = np.load(FEATURES_FILE)\n",
    "\n",
    "list_dict = []\n",
    "for item in features:\n",
    "    dict_temp = json.loads(item)\n",
    "    list_dict.append(dict_temp)\n",
    "\n",
    "SQUAD_MINDRECORD_FILE = \"./data/dev_features.mindrecord\"\n",
    "pad = lambda a,i : a[0:i] if len(a) > i else a + [0] * (i-len(a))\n",
    "pad1 =  lambda a,i : a[0:i] if len(a) > i else a + [1] * (i-len(a))\n",
    "pad_entity = lambda a,i : a[0:i] if len(a) > i else np.append(a,[-1] * (i-len(a)))\n",
    "\n",
    "for slist in list_dict:\n",
    "    slist[\"entity_attention_mask\"] = pad(slist[\"entity_attention_mask\"], 24)\n",
    "    slist[\"entity_ids\"] = pad(slist[\"entity_attention_mask\"], 24)\n",
    "    slist[\"entity_segment_ids\"] = pad(slist[\"entity_segment_ids\"], 24)\n",
    "    \n",
    "    slist[\"word_ids\"] = pad1(slist[\"word_ids\"], 256)\n",
    "    slist[\"word_segment_ids\"] = pad(slist[\"word_segment_ids\"], 256)\n",
    "    slist[\"word_attention_mask\"] = pad(slist[\"word_attention_mask\"], 256)\n",
    "    # entity padding 1\n",
    "    entity_size = len(slist[\"entity_position_ids\"])\n",
    "    slist[\"entity_position_ids\"] = np.array(slist[\"entity_position_ids\"])\n",
    "    temp = [[-1]*24 for i in range(24)]\n",
    "    for i in range(24):\n",
    "        if i < entity_size-1:\n",
    "            temp[i]=(pad_entity(slist[\"entity_position_ids\"][i], 24))\n",
    "\n",
    "\n",
    "    slist[\"entity_position_ids\"] =temp\n",
    "    # entity_padding 2\n",
    "    #slist[\"entity_position_ids\"] = np.array(slist[\"entity_position_ids\"]).flatten()\n",
    "    #slist[\"entity_position_ids\"] = pad_entity(slist[\"entity_position_ids\"], 24)\n",
    "\n",
    "\n",
    "if os.path.exists(SQUAD_MINDRECORD_FILE):\n",
    "    os.remove(SQUAD_MINDRECORD_FILE)\n",
    "    os.remove(SQUAD_MINDRECORD_FILE + \".db\")\n",
    "\n",
    "writer = FileWriter(file_name=SQUAD_MINDRECORD_FILE, shard_num=1)\n",
    "\n",
    "data_schema = {\n",
    "    \"unique_id\": {\"type\": \"int32\", \"shape\": [-1]},\n",
    "    \"word_ids\": {\"type\": \"int32\", \"shape\": [-1]},\n",
    "    \"word_segment_ids\": {\"type\": \"int32\", \"shape\": [-1]},\n",
    "    \"word_attention_mask\": {\"type\": \"int32\", \"shape\": [-1]},\n",
    "    \"entity_ids\": {\"type\": \"int32\", \"shape\": [-1]},\n",
    "    \"entity_position_ids\": {\"type\": \"int32\", \"shape\": [24,24]},\n",
    "    \"entity_segment_ids\": {\"type\": \"int32\", \"shape\": [-1]},\n",
    "    \"entity_attention_mask\": {\"type\": \"int32\", \"shape\": [-1]},\n",
    "    #\"start_positions\": {\"type\": \"int32\", \"shape\": [-1]},\n",
    "    #\"end_positions\": {\"type\": \"int32\", \"shape\": [-1]}\n",
    "}\n",
    "writer.add_schema(data_schema, \"it is a preprocessed squad dataset\")\n",
    "\n",
    "data = []\n",
    "i = 0\n",
    "for item in list_dict:\n",
    "    i += 1\n",
    "    sample = {\n",
    "        \"unique_id\": np.array(item[\"unique_id\"], dtype=np.int32),\n",
    "        \"word_ids\": np.array(item[\"word_ids\"], dtype=np.int32),\n",
    "        \"word_segment_ids\": np.array(item[\"word_segment_ids\"], dtype=np.int32),\n",
    "        \"word_attention_mask\": np.array(item[\"word_attention_mask\"], dtype=np.int32),\n",
    "        \"entity_ids\": np.array(item[\"entity_ids\"], dtype=np.int32),\n",
    "        \"entity_position_ids\": np.array(item[\"entity_position_ids\"], dtype=np.int32),\n",
    "        \"entity_segment_ids\": np.array(item[\"entity_segment_ids\"], dtype=np.int32),\n",
    "        \"entity_attention_mask\": np.array(item[\"entity_attention_mask\"], dtype=np.int32),\n",
    "        #\"start_positions\": np.array(item[\"start_positions\"], dtype=np.int32),\n",
    "        #\"end_positions\": np.array(item[\"end_positions\"], dtype=np.int32),\n",
    "    }\n",
    "\n",
    "    data.append(sample)\n",
    "    #print(sample)\n",
    "    if i % 10 == 0:\n",
    "        writer.write_raw_data(data)\n",
    "        data = []\n",
    "\n",
    "if data:\n",
    "    writer.write_raw_data(data)\n",
    "\n",
    "writer.commit()"
   ]
  },
  {
   "cell_type": "markdown",
   "id": "21ead883",
   "metadata": {},
   "source": [
    "## 简单测试\n",
    "- dev_data1.npy包含两个样本"
   ]
  },
  {
   "cell_type": "code",
   "execution_count": 8,
   "id": "ce7929e8",
   "metadata": {},
   "outputs": [],
   "source": [
    "# FEATURES_FILE = \"./data/dev_data1.npy\"\n",
    "# features = np.load(FEATURES_FILE)\n",
    "\n",
    "\n",
    "\n",
    "\n",
    "\n",
    "# SQUAD_MINDRECORD_FILE = \"./data/dev_features1.mindrecord\"\n",
    "# list_dict = []\n",
    "# for item in features:\n",
    "#     dict_temp = json.loads(item)\n",
    "#     list_dict.append(dict_temp)\n",
    "\n",
    "# pad = lambda a,i : a[0:i] if len(a) > i else a + [0] * (i-len(a))\n",
    "# pad1 =  lambda a,i : a[0:i] if len(a) > i else a + [1] * (i-len(a))\n",
    "# pad_entity = lambda a,i : a[0:i] if len(a) > i else np.append(a,[-1] * (i-len(a)))\n",
    "\n",
    "# for slist in list_dict:\n",
    "#     slist[\"entity_attention_mask\"] = pad(slist[\"entity_attention_mask\"], 24)\n",
    "#     slist[\"entity_ids\"] = pad(slist[\"entity_ids\"], 24)\n",
    "#     slist[\"entity_segment_ids\"] = pad(slist[\"entity_segment_ids\"], 24)\n",
    "    \n",
    "#     slist[\"word_ids\"] = pad1(slist[\"word_ids\"], 256)\n",
    "#     slist[\"word_segment_ids\"] = pad(slist[\"word_segment_ids\"], 256)\n",
    "#     slist[\"word_attention_mask\"] = pad(slist[\"word_attention_mask\"], 256)\n",
    "#     slist[\"entity_position_ids\"] = np.array(slist[\"entity_position_ids\"]).flatten()\n",
    "#     slist[\"entity_position_ids\"] = pad_entity(slist[\"entity_position_ids\"], 256)\n",
    "\n",
    "\n",
    "# if os.path.exists(SQUAD_MINDRECORD_FILE):\n",
    "#     os.remove(SQUAD_MINDRECORD_FILE)\n",
    "#     os.remove(SQUAD_MINDRECORD_FILE + \".db\")\n",
    "\n",
    "# writer = FileWriter(file_name=SQUAD_MINDRECORD_FILE, shard_num=1)\n",
    "\n",
    "# data_schema = {\n",
    "#     \"unique_id\": {\"type\": \"int32\", \"shape\": [-1]},\n",
    "#     \"word_ids\": {\"type\": \"int32\", \"shape\": [-1]},\n",
    "#     \"word_segment_ids\": {\"type\": \"int32\", \"shape\": [-1]},\n",
    "#     \"word_attention_mask\": {\"type\": \"int32\", \"shape\": [-1]},\n",
    "#     \"entity_ids\": {\"type\": \"int32\", \"shape\": [-1]},\n",
    "#     \"entity_position_ids\": {\"type\": \"int32\", \"shape\": [-1]},\n",
    "#     \"entity_segment_ids\": {\"type\": \"int32\", \"shape\": [-1]},\n",
    "#     \"entity_attention_mask\": {\"type\": \"int32\", \"shape\": [-1]},\n",
    "#     #\"start_positions\": {\"type\": \"int32\", \"shape\": [-1]},\n",
    "#     #\"end_positions\": {\"type\": \"int32\", \"shape\": [-1]}\n",
    "# }\n",
    "# writer.add_schema(data_schema, \"it is a preprocessed squad dataset\")\n",
    "\n",
    "# data = []\n",
    "# i = 0\n",
    "# for item in list_dict:\n",
    "#     i += 1\n",
    "#     sample = {\n",
    "#         \"unique_id\": np.array(item[\"unique_id\"], dtype=np.int32),\n",
    "#         \"word_ids\": np.array(item[\"word_ids\"], dtype=np.int32),\n",
    "#         \"word_segment_ids\": np.array(item[\"word_segment_ids\"], dtype=np.int32),\n",
    "#         \"word_attention_mask\": np.array(item[\"word_attention_mask\"], dtype=np.int32),\n",
    "#         \"entity_ids\": np.array(item[\"entity_ids\"], dtype=np.int32),\n",
    "#         \"entity_position_ids\": np.array(item[\"entity_position_ids\"], dtype=np.int32),\n",
    "#         \"entity_segment_ids\": np.array(item[\"entity_segment_ids\"], dtype=np.int32),\n",
    "#         \"entity_attention_mask\": np.array(item[\"entity_attention_mask\"], dtype=np.int32),\n",
    "#         #\"start_positions\": np.array(item[\"start_positions\"], dtype=np.int32),\n",
    "#         #\"end_positions\": np.array(item[\"end_positions\"], dtype=np.int32),\n",
    "#     }\n",
    "    \n",
    "#     data.append(sample)\n",
    "#     #print(sample)\n",
    "#     if i % 10 == 0:\n",
    "#         writer.write_raw_data(data)\n",
    "#         data = []\n",
    "\n",
    "# if data:\n",
    "#     writer.write_raw_data(data)\n",
    "\n",
    "# writer.commit()"
   ]
  },
  {
   "cell_type": "code",
   "execution_count": 9,
   "id": "e3819700",
   "metadata": {},
   "outputs": [],
   "source": [
    "output_features = np.array(list_dict)"
   ]
  },
  {
   "cell_type": "code",
   "execution_count": 10,
   "id": "13d95683",
   "metadata": {},
   "outputs": [
    {
     "name": "stdout",
     "output_type": "stream",
     "text": [
      "Got 10641 samples\n"
     ]
    }
   ],
   "source": [
    "#SQUAD_MINDRECORD_FILE = \"./data/dev_features.mindrecord\"\n",
    "data_set = ds.MindDataset(dataset_file=SQUAD_MINDRECORD_FILE)\n",
    "count = 0\n",
    "for item in data_set.create_dict_iterator():\n",
    "    #print(item)\n",
    "    count += 1\n",
    "print(\"Got {} samples\".format(count))"
   ]
  },
  {
   "cell_type": "code",
   "execution_count": 11,
   "id": "0f70b911",
   "metadata": {},
   "outputs": [
    {
     "data": {
      "text/plain": [
       "{'entity_attention_mask': Tensor(shape=[2, 24], dtype=Int32, value=\n",
       " [[1, 1, 1 ... 0, 0, 0],\n",
       "  [1, 1, 0 ... 0, 0, 0]]),\n",
       " 'entity_ids': Tensor(shape=[2, 24], dtype=Int32, value=\n",
       " [[1, 1, 1 ... 0, 0, 0],\n",
       "  [1, 1, 0 ... 0, 0, 0]]),\n",
       " 'entity_position_ids': Tensor(shape=[2, 24, 24], dtype=Int32, value=\n",
       " [[[17, -1, -1 ... -1, -1, -1],\n",
       "   [22, -1, -1 ... -1, -1, -1],\n",
       "   [-1, -1, -1 ... -1, -1, -1],\n",
       "   ...\n",
       "   [-1, -1, -1 ... -1, -1, -1],\n",
       "   [-1, -1, -1 ... -1, -1, -1],\n",
       "   [-1, -1, -1 ... -1, -1, -1]],\n",
       "  [[62, 63, -1 ... -1, -1, -1],\n",
       "   [-1, -1, -1 ... -1, -1, -1],\n",
       "   [-1, -1, -1 ... -1, -1, -1],\n",
       "   ...\n",
       "   [-1, -1, -1 ... -1, -1, -1],\n",
       "   [-1, -1, -1 ... -1, -1, -1],\n",
       "   [-1, -1, -1 ... -1, -1, -1]]]),\n",
       " 'entity_segment_ids': Tensor(shape=[2, 24], dtype=Int32, value=\n",
       " [[0, 0, 0 ... 0, 0, 0],\n",
       "  [0, 0, 0 ... 0, 0, 0]]),\n",
       " 'unique_id': Tensor(shape=[2, 1], dtype=Int32, value=\n",
       " [[1000002703],\n",
       "  [1000005753]]),\n",
       " 'word_attention_mask': Tensor(shape=[2, 256], dtype=Int32, value=\n",
       " [[1, 1, 1 ... 0, 0, 0],\n",
       "  [1, 1, 1 ... 0, 0, 0]]),\n",
       " 'word_ids': Tensor(shape=[2, 256], dtype=Int32, value=\n",
       " [[   0, 1944,   87 ...    1,    1,    1],\n",
       "  [   0, 3394, 1887 ...    1,    1,    1]]),\n",
       " 'word_segment_ids': Tensor(shape=[2, 256], dtype=Int32, value=\n",
       " [[0, 0, 0 ... 0, 0, 0],\n",
       "  [0, 0, 0 ... 0, 0, 0]])}"
      ]
     },
     "execution_count": 11,
     "metadata": {},
     "output_type": "execute_result"
    }
   ],
   "source": [
    "data_set = data_set.batch(2)\n",
    "data_sample = next(data_set.create_dict_iterator())\n",
    "data_sample"
   ]
  },
  {
   "cell_type": "code",
   "execution_count": 12,
   "id": "5a86537e",
   "metadata": {},
   "outputs": [
    {
     "data": {
      "text/plain": [
       "Tensor(shape=[2, 24], dtype=Int32, value=\n",
       "[[1, 1, 1 ... 0, 0, 0],\n",
       " [1, 1, 0 ... 0, 0, 0]])"
      ]
     },
     "execution_count": 12,
     "metadata": {},
     "output_type": "execute_result"
    }
   ],
   "source": [
    "data_sample['entity_attention_mask']"
   ]
  },
  {
   "cell_type": "markdown",
   "id": "f9d09bd5",
   "metadata": {},
   "source": [
    "# Model"
   ]
  },
  {
   "cell_type": "code",
   "execution_count": 13,
   "id": "38ce8af4",
   "metadata": {},
   "outputs": [],
   "source": [
    "from readingcomprehension.models.luke import LukeForReadingComprehension, LukeEntityAwareAttentionModel\n",
    "import mindspore.common.dtype as mstype\n",
    "from model.bert_model import BertConfig\n",
    "from mindspore import context\n",
    "from model.luke import LukeModel, EntityAwareEncoder\n",
    "from mindspore import Tensor, context\n",
    "from mindspore import dtype as mstype\n",
    "import mindspore.ops as ops\n",
    "import mindspore.nn as nn\n",
    "from model.bert_model import BertOutput\n",
    "from mindspore.common.initializer import TruncatedNormal\n",
    "from mindspore.ops import composite as C\n",
    "import mindspore\n",
    "from mindspore.ops import operations as P\n",
    "from mindspore.train.model import Model\n",
    "context.set_context(mode=context.GRAPH_MODE, device_target=\"GPU\")"
   ]
  },
  {
   "cell_type": "markdown",
   "id": "acd3c282",
   "metadata": {},
   "source": [
    "## 简单测试"
   ]
  },
  {
   "cell_type": "code",
   "execution_count": 14,
   "id": "85b4a0f3",
   "metadata": {},
   "outputs": [],
   "source": [
    "# config = BertConfig()\n",
    "# Luke_model = LukeForReadingComprehension(config)\n",
    "# model = Model(Luke_model)"
   ]
  },
  {
   "cell_type": "code",
   "execution_count": 15,
   "id": "520a6921",
   "metadata": {},
   "outputs": [],
   "source": [
    "#logits = model.predict(word_ids,word_segment_ids,word_attention_mask,entity_ids,entity_position_ids,entity_segment_ids,entity_attention_mask)"
   ]
  },
  {
   "cell_type": "code",
   "execution_count": 16,
   "id": "61683528",
   "metadata": {},
   "outputs": [],
   "source": [
    "#logits"
   ]
  },
  {
   "cell_type": "markdown",
   "id": "e2952056",
   "metadata": {},
   "source": [
    "# do_eval"
   ]
  },
  {
   "cell_type": "code",
   "execution_count": 17,
   "id": "d9bebf13",
   "metadata": {},
   "outputs": [
    {
     "name": "stdout",
     "output_type": "stream",
     "text": [
      "Requirement already satisfied: tqdm in /home/baicai/anaconda3/envs/mindspore1.3/lib/python3.7/site-packages (4.46.1)\r\n"
     ]
    }
   ],
   "source": [
    "!pip install tqdm\n",
    "from tqdm import tqdm"
   ]
  },
  {
   "cell_type": "code",
   "execution_count": 18,
   "id": "c2bcef97",
   "metadata": {},
   "outputs": [],
   "source": [
    "from mindspore.train.serialization import load_checkpoint, load_param_into_net\n",
    "from mindspore.train.model import Model\n",
    "import collections\n",
    "def do_eval(dataset=None, load_checkpoint_path=\"\", eval_batch_size=1):\n",
    "    config = BertConfig()\n",
    "    Luke_model = LukeForReadingComprehension(config)\n",
    "    Luke_model.set_train(False)\n",
    "    model = Model(Luke_model)\n",
    "    param_dict = load_checkpoint(load_checkpoint_path)\n",
    "    load_param_into_net(Luke_model, param_dict)\n",
    "    output = []\n",
    "    #model = Model(Luke_model)\n",
    "    \n",
    "    RawResult = collections.namedtuple(\"RawResult\", [\"unique_id\", \"start_logits\", \"end_logits\"])\n",
    "    columns_list = [\"unique_id\", \"word_ids\", \"word_segment_ids\", \"word_attention_mask\", \"entity_ids\", \"entity_position_ids\", \"entity_segment_ids\", \"entity_attention_mask\"]\n",
    "    data_set = ds.MindDataset(dataset_file=SQUAD_MINDRECORD_FILE)\n",
    "    data_set = data_set.batch(eval_batch_size) # ,drop_remainder=True\n",
    "    for data in tqdm(data_set.create_dict_iterator(num_epochs=1)):\n",
    "        input_data = []\n",
    "        for i in columns_list:\n",
    "            input_data.append(data[i])\n",
    "\n",
    "        unique_id, word_ids,word_segment_ids,word_attention_mask,entity_ids,entity_position_ids,entity_segment_ids,entity_attention_mask = input_data\n",
    "        #print(unique_id)\n",
    "        logits = model.predict(word_ids,word_segment_ids,word_attention_mask,entity_ids,entity_position_ids,entity_segment_ids,entity_attention_mask)\n",
    "        ids = unique_id.asnumpy()\n",
    "        start = logits[0].asnumpy()\n",
    "        end = logits[1].asnumpy()\n",
    "    \n",
    "        for i in range(len(data)):  # eval_batch_size\n",
    "            unique_id = int(ids[i])\n",
    "            start_logits = [float(x) for x in start[i].flat]\n",
    "            end_logits = [float(x) for x in end[i].flat]\n",
    "            output.append(RawResult(\n",
    "                unique_id=unique_id,\n",
    "                start_logits=start_logits,\n",
    "                end_logits=end_logits))\n",
    "        #print(word_ids.shape)\n",
    "    return output"
   ]
  },
  {
   "cell_type": "code",
   "execution_count": null,
   "id": "4f54dc77",
   "metadata": {
    "scrolled": false
   },
   "outputs": [
    {
     "name": "stderr",
     "output_type": "stream",
     "text": [
      "264it [03:51,  1.22it/s]"
     ]
    }
   ],
   "source": [
    "dev_dataset = ds.MindDataset(dataset_file=SQUAD_MINDRECORD_FILE)\n",
    "outputs = do_eval(dev_dataset, load_checkpoint_path = \"./luke-large-qa.ckpt\", eval_batch_size = 32)"
   ]
  },
  {
   "cell_type": "code",
   "execution_count": null,
   "id": "29c1f31b",
   "metadata": {},
   "outputs": [],
   "source": [
    "import numpy as np\n",
    "np.save('dev_outputs.npy',outputs)"
   ]
  },
  {
   "cell_type": "markdown",
   "id": "08b5b4d6",
   "metadata": {},
   "source": [
    "# 验证"
   ]
  },
  {
   "cell_type": "code",
   "execution_count": null,
   "id": "e63c34d4",
   "metadata": {},
   "outputs": [],
   "source": [
    "from model.eval_squad import read_squad_examples, write_predictions, SQuad_postprocess"
   ]
  },
  {
   "cell_type": "code",
   "execution_count": null,
   "id": "4bc1ea21",
   "metadata": {},
   "outputs": [],
   "source": [
    "output = np.load(\"./dev_outputs.npy\", allow_pickle=True)\n",
    "eval_examples = read_squad_examples(\"./dataset/dev-v1.1.json\", False)\n",
    "all_predictions = write_predictions(eval_examples, output_features, output, 20, 30, True)\n",
    "SQuad_postprocess(\"./dataset/dev-v1.1.json\", all_predictions, output_metrics=\"output.json\")"
   ]
  },
  {
   "cell_type": "code",
   "execution_count": null,
   "id": "71daf8d8",
   "metadata": {},
   "outputs": [],
   "source": [
    "outputs"
   ]
  },
  {
   "cell_type": "code",
   "execution_count": null,
   "id": "85e11bac",
   "metadata": {
    "scrolled": true
   },
   "outputs": [],
   "source": [
    "outputs[0][0]"
   ]
  },
  {
   "cell_type": "code",
   "execution_count": null,
   "id": "1e20f7c2",
   "metadata": {},
   "outputs": [],
   "source": [
    "outputs[0][1]"
   ]
  },
  {
   "cell_type": "code",
   "execution_count": null,
   "id": "edfe07ad",
   "metadata": {},
   "outputs": [],
   "source": [
    "outputs[0][2]"
   ]
  },
  {
   "cell_type": "code",
   "execution_count": null,
   "id": "3bf43992",
   "metadata": {},
   "outputs": [],
   "source": [
    "def evaluate(args, outputs, prefix=\"\"):\n",
    "    dataloader, examples, features, processor = load_examples(args, evaluate=True)\n",
    "    all_results = []\n",
    "    for batch in tqdm(dataloader, desc=\"eval\"):\n",
    "        model.eval()\n",
    "        inputs = {k: v.to(args.device) for k, v in batch.items() if k != \"example_indices\"}\n",
    "        with torch.no_grad():\n",
    "            outputs = model(**inputs)\n",
    "\n",
    "        for i, example_index in enumerate(batch[\"example_indices\"]):\n",
    "            eval_feature = features[example_index.item()]\n",
    "            unique_id = int(eval_feature.unique_id)\n",
    "            start_logits, end_logits = [o[i].detach().cpu().tolist() for o in outputs]\n",
    "            all_results.append(Result(unique_id, start_logits, end_logits))\n",
    "\n",
    "    output_prediction_file = os.path.join(args.output_dir, \"predictions_{}.json\".format(prefix))\n",
    "    output_nbest_file = os.path.join(args.output_dir, \"nbest_predictions_{}.json\".format(prefix))\n",
    "    if args.with_negative:\n",
    "        output_null_log_odds_file = os.path.join(args.output_dir, \"null_odds_{}.json\".format(prefix))\n",
    "    else:\n",
    "        output_null_log_odds_file = None\n",
    "\n",
    "    do_lower_case = False\n",
    "    if isinstance(args.tokenizer, BertTokenizer):\n",
    "        do_lower_case = args.tokenizer.basic_tokenizer.do_lower_case\n",
    "\n",
    "    write_predictions(\n",
    "        examples,\n",
    "        features,\n",
    "        all_results,\n",
    "        args.n_best_size,\n",
    "        args.max_answer_length,\n",
    "        do_lower_case,\n",
    "        output_prediction_file,\n",
    "        output_nbest_file,\n",
    "        output_null_log_odds_file,\n",
    "        False,\n",
    "        args.with_negative,\n",
    "        args.null_score_diff_threshold,\n",
    "        args.tokenizer,\n",
    "    )\n",
    "\n",
    "    return evaluate_on_squad(\n",
    "        SQUAD_EVAL_OPTS(\n",
    "            os.path.join(args.data_dir, processor.dev_file),\n",
    "            pred_file=output_prediction_file,\n",
    "            na_prob_file=output_null_log_odds_file,\n",
    "        )\n",
    "    )"
   ]
  },
  {
   "cell_type": "code",
   "execution_count": null,
   "id": "9fe34a72",
   "metadata": {},
   "outputs": [],
   "source": [
    "output = np.load(\"./ori_dev_outputs.npy\", allow_pickle=True)\n"
   ]
  },
  {
   "cell_type": "code",
   "execution_count": null,
   "id": "a0e62e27",
   "metadata": {},
   "outputs": [],
   "source": [
    "output[1][0]"
   ]
  },
  {
   "cell_type": "code",
   "execution_count": null,
   "id": "1d18f040",
   "metadata": {
    "scrolled": true
   },
   "outputs": [],
   "source": [
    "output[1][1]"
   ]
  },
  {
   "cell_type": "code",
   "execution_count": null,
   "id": "9fe7db0a",
   "metadata": {
    "scrolled": true
   },
   "outputs": [],
   "source": [
    "output[1][2]"
   ]
  },
  {
   "cell_type": "code",
   "execution_count": null,
   "id": "798a0ce5",
   "metadata": {},
   "outputs": [],
   "source": []
  }
 ],
 "metadata": {
  "kernelspec": {
   "display_name": "PyCharm (LUKE_mindspore)",
   "language": "python",
   "name": "pycharm-6a7c9ef4"
  },
  "language_info": {
   "codemirror_mode": {
    "name": "ipython",
    "version": 3
   },
   "file_extension": ".py",
   "mimetype": "text/x-python",
   "name": "python",
   "nbconvert_exporter": "python",
   "pygments_lexer": "ipython3",
   "version": "3.7.5"
  }
 },
 "nbformat": 4,
 "nbformat_minor": 5
}
