{
 "cells": [
  {
   "cell_type": "markdown",
   "id": "a07fc48b",
   "metadata": {},
   "source": [
    "# 数据集创建&处理"
   ]
  },
  {
   "cell_type": "code",
   "execution_count": 1,
   "id": "b28555a5",
   "metadata": {},
   "outputs": [],
   "source": [
    "from dataset.build_dataset import build_dataset\n",
    "import mindspore.dataset as ds\n",
    "import os\n",
    "import numpy as np\n",
    "from mindspore.mindrecord import FileWriter\n",
    "import json"
   ]
  },
  {
   "cell_type": "code",
   "execution_count": 2,
   "id": "8a41b819",
   "metadata": {},
   "outputs": [],
   "source": [
    "# 创建mindrecord\n",
    "\n",
    "# FEATURES_FILE = \"./data/json_features.npy\"\n",
    "# features = np.load(FEATURES_FILE)\n",
    "# list_dict = []\n",
    "# for item in features:\n",
    "#     dict_temp = json.loads(item)\n",
    "#     list_dict.append(dict_temp)\n",
    "# SQUAD_MINDRECORD_FILE = \"./data/squad_features.mindrecord\"\n",
    "\n",
    "# if os.path.exists(SQUAD_MINDRECORD_FILE):\n",
    "#     os.remove(SQUAD_MINDRECORD_FILE)\n",
    "#     os.remove(SQUAD_MINDRECORD_FILE + \".db\")\n",
    "\n",
    "# writer = FileWriter(file_name=SQUAD_MINDRECORD_FILE, shard_num=1)\n",
    "\n",
    "# data_schema = {\n",
    "#     \"word_ids\": {\"type\": \"int32\", \"shape\": [-1]},\n",
    "#     \"word_segment_ids\": {\"type\": \"int32\", \"shape\": [-1]},\n",
    "#     \"word_attention_mask\": {\"type\": \"int32\", \"shape\": [-1]},\n",
    "#     \"entity_ids\": {\"type\": \"int32\", \"shape\": [-1]},\n",
    "#     \"entity_position_ids\": {\"type\": \"int32\", \"shape\": [-1]},\n",
    "#     \"entity_segment_ids\": {\"type\": \"int32\", \"shape\": [-1]},\n",
    "#     \"entity_attention_mask\": {\"type\": \"int32\", \"shape\": [-1]},\n",
    "#     \"start_positions\": {\"type\": \"int32\", \"shape\": [-1]},\n",
    "#     \"end_positions\": {\"type\": \"int32\", \"shape\": [-1]}\n",
    "# }\n",
    "# writer.add_schema(data_schema, \"it is a preprocessed squad dataset\")\n",
    "\n",
    "# data = []\n",
    "# i = 0\n",
    "# for item in list_dict:\n",
    "#     i += 1\n",
    "#     sample = {\n",
    "#         \"word_ids\": np.array(item[\"word_ids\"], dtype=np.int32),\n",
    "#         \"word_segment_ids\": np.array(item[\"word_segment_ids\"], dtype=np.int32),\n",
    "#         \"word_attention_mask\": np.array(item[\"word_attention_mask\"], dtype=np.int32),\n",
    "#         \"entity_ids\": np.array(item[\"entity_ids\"], dtype=np.int32),\n",
    "#         \"entity_position_ids\": np.array(item[\"entity_position_ids\"], dtype=np.int32),\n",
    "#         \"entity_segment_ids\": np.array(item[\"entity_segment_ids\"], dtype=np.int32),\n",
    "#         \"entity_attention_mask\": np.array(item[\"entity_attention_mask\"], dtype=np.int32),\n",
    "#         \"start_positions\": np.array(item[\"start_positions\"], dtype=np.int32),\n",
    "#         \"end_positions\": np.array(item[\"end_positions\"], dtype=np.int32),\n",
    "#     }\n",
    "\n",
    "#     data.append(sample)\n",
    "#     #print(sample)\n",
    "#     if i % 10 == 0:\n",
    "#         writer.write_raw_data(data)\n",
    "#         data = []\n",
    "\n",
    "# if data:\n",
    "#     writer.write_raw_data(data)\n",
    "\n",
    "# writer.commit()"
   ]
  },
  {
   "cell_type": "code",
   "execution_count": 2,
   "id": "df4565ed",
   "metadata": {},
   "outputs": [
    {
     "name": "stdout",
     "output_type": "stream",
     "text": [
      "Got 269 samples\n"
     ]
    }
   ],
   "source": [
    "SQUAD_MINDRECORD_FILE = \"./data/squad_features.mindrecord\"\n",
    "data_set = ds.MindDataset(dataset_file=SQUAD_MINDRECORD_FILE)\n",
    "count = 0\n",
    "for item in data_set.create_dict_iterator():\n",
    "    #print(item)\n",
    "    count += 1\n",
    "print(\"Got {} samples\".format(count))"
   ]
  },
  {
   "cell_type": "code",
   "execution_count": 3,
   "id": "2a54a51a",
   "metadata": {
    "scrolled": true
   },
   "outputs": [
    {
     "data": {
      "text/plain": [
       "{'end_positions': Tensor(shape=[1], dtype=Int32, value= [101]),\n",
       " 'entity_attention_mask': Tensor(shape=[2], dtype=Int32, value= [0, 0]),\n",
       " 'entity_ids': Tensor(shape=[2], dtype=Int32, value= [0, 0]),\n",
       " 'entity_position_ids': Tensor(shape=[60], dtype=Int32, value= [-1, -1, -1, -1, -1, -1, -1, -1, -1, -1, -1, -1, -1, -1, -1, -1, -1, -1, -1, -1, -1, -1, -1, -1, \n",
       "  -1, -1, -1, -1, -1, -1, -1, -1, -1, -1, -1, -1, -1, -1, -1, -1, -1, -1, -1, -1, -1, -1, -1, -1, \n",
       "  -1, -1, -1, -1, -1, -1, -1, -1, -1, -1, -1, -1]),\n",
       " 'entity_segment_ids': Tensor(shape=[2], dtype=Int32, value= [0, 0]),\n",
       " 'start_positions': Tensor(shape=[1], dtype=Int32, value= [101]),\n",
       " 'word_attention_mask': Tensor(shape=[422], dtype=Int32, value= [1, 1, 1, 1, 1, 1, 1, 1, 1, 1, 1, 1, 1, 1, 1, 1, 1, 1, 1, 1, 1, 1, 1, 1, \n",
       "  1, 1, 1, 1, 1, 1, 1, 1, 1, 1, 1, 1, 1, 1, 1, 1, 1, 1, 1, 1, 1, 1, 1, 1, \n",
       "  1, 1, 1, 1, 1, 1, 1, 1, 1, 1, 1, 1, 1, 1, 1, 1, 1, 1, 1, 1, 1, 1, 1, 1, \n",
       "  1, 1, 1, 1, 1, 1, 1, 1, 1, 1, 1, 1, 1, 1, 1, 1, 1, 1, 1, 1, 1, 1, 1, 1, \n",
       "  1, 1, 1, 1, 1, 1, 1, 1, 1, 1, 1, 1, 1, 1, 1, 1, 1, 1, 1, 1, 1, 1, 1, 1, \n",
       "  1, 1, 1, 1, 1, 1, 1, 1, 1, 1, 1, 1, 1, 1, 1, 1, 1, 1, 1, 1, 1, 1, 1, 1, \n",
       "  1, 1, 1, 1, 1, 1, 1, 1, 1, 1, 1, 1, 1, 1, 1, 1, 1, 1, 1, 1, 1, 1, 1, 1, \n",
       "  1, 1, 1, 1, 1, 1, 1, 1, 1, 1, 1, 1, 1, 1, 1, 1, 1, 1, 1, 1, 1, 1, 1, 1, \n",
       "  1, 1, 1, 1, 1, 1, 1, 1, 1, 1, 1, 1, 1, 1, 1, 1, 1, 1, 1, 1, 1, 1, 1, 1, \n",
       "  1, 1, 1, 1, 1, 1, 1, 1, 1, 1, 1, 1, 1, 1, 1, 1, 1, 1, 1, 1, 1, 1, 1, 1, \n",
       "  1, 1, 1, 1, 1, 1, 1, 1, 1, 1, 1, 1, 1, 1, 1, 1, 1, 1, 1, 1, 1, 1, 1, 1, \n",
       "  1, 1, 1, 1, 1, 1, 1, 1, 1, 1, 1, 1, 1, 1, 1, 1, 1, 1, 1, 1, 1, 1, 1, 1, \n",
       "  1, 1, 1, 1, 1, 1, 1, 1, 1, 1, 1, 1, 1, 1, 1, 1, 1, 1, 1, 1, 1, 1, 1, 1, \n",
       "  1, 1, 1, 1, 1, 1, 1, 1, 1, 1, 1, 1, 1, 1, 1, 1, 1, 1, 1, 1, 1, 1, 1, 1, \n",
       "  1, 1, 1, 1, 1, 1, 1, 1, 1, 1, 1, 1, 1, 1, 1, 1, 1, 1, 1, 1, 1, 1, 1, 1, \n",
       "  1, 1, 1, 1, 1, 1, 1, 1, 1, 1, 1, 1, 1, 1, 1, 1, 1, 1, 1, 1, 1, 1, 1, 1, \n",
       "  1, 1, 1, 1, 1, 1, 1, 1, 1, 1, 1, 1, 1, 1, 1, 1, 1, 1, 1, 1, 1, 1, 1, 1, \n",
       "  1, 1, 1, 1, 1, 1, 1, 1, 1, 1, 1, 1, 1, 1]),\n",
       " 'word_ids': Tensor(shape=[422], dtype=Int32, value= [    0,  6179,   171,   893,    11,   349,   191,   109,     5, 18563,  3445,  6225,     7,   310,   136, 10018,  4257,   116,     2,     2,  7199,   241,   495,  4344, \n",
       "     18, 16459,  3707,  4715,  1635,  1990,  1250,  1116,  2629, 23267, 26837, 11107,   463,   506, 17725, 37541,   179, 13882, 10684,   281,   102, 43155,  1116, 25430, \n",
       "  16459,  8726, 15645,     6,   463,  2629,   506, 17725,  3707, 26045,  6677, 14035,   179, 13882, 16310,     4,   133, 38100,  6960,   627, 12583, 17577,  1990,   627, \n",
       "  21678, 37460,   102,  4892,  3479,   196, 28030,  1116, 16063,  4484,   179,   627, 12583, 17577,   131, 20235, 10010,   119, 37205, 25017, 11107, 33821,     6, 10010, \n",
       "  11990,   175, 13979,   560,  5785,  9579, 34732,  1741,  4162, 22268, 21678, 10223, 19245,     4,  1121,  2463,   298, 16303,     6,   627, 38100, 17341, 25258,   560, \n",
       "  26559,   102,  4651, 16459,  8361, 10669,   627, 12583, 28612,  9157, 23861,    18, 11127, 10699,   560,  4917,   627,    29,  3427,   179, 10684,  2383,  1570,  1329, \n",
       "    560,   102,   438, 48431,  1116, 16459,   119, 14337,  6025, 13300,  4691,  1070,   179,   627,   417,  3006, 23794,  1116,   627,  8813,    18, 22098,   298, 16303, \n",
       "   8361,     6,   627, 25674, 18551,  4308, 10599,   725, 16303, 26039, 41156,     6, 10669,   627, 14517,  2383,  1558,  4162,     4,  7199,   241,   495,  4344,   119, \n",
       "  12677,  2629,   298, 16303,  8687,   560,   725, 16303, 17577,     4,  4993,  7199,   241,   495,  4344, 37097,   627, 21678,     6,   627, 16459, 29096,   405, 14656, \n",
       "   4917,   506, 17725,   281,   102, 16032,    29,  3427, 43230,  3509,   179,   627, 16310,  2383,   996,  8813,   180,     4,   970,  1322, 19827,   627,  9023, 32424, \n",
       "    627,   625, 27657,  1116,   627,  2681,  2716,  2857,  5806, 17625,  4297,   405,   354,  6421,  6025,   627, 43435, 38100, 13650,  7325,  6199,   179,   627, 23099, \n",
       "  44328,    29,  5632, 27387,   560,   627, 11107,  8687,   463,  7325, 34410,  1538,  1409,   337, 24422,   687, 38461,   354, 28216,  4450,   179, 12724,  4030, 31609, \n",
       "  26339,  5532, 42351,    29,     4,   133, 24132,  9119,   994,  1116,  7199,   241,   495,  4344,  1322,   487, 19909, 17858,   463, 20439, 45237,  5488,  1322, 35738, \n",
       "    179, 11828, 37258,  1409,  2629,  2681,  2716,   636,   859,  7042,     4,  1121,  4917,  7469,     6,   627, 21685, 12354,   354, 34378, 35738, 13437,  1116,   627, \n",
       "  43435, 38100, 16346, 13650,     4,   133,  7199,   241,   495,  4344,   574,  2462,   241,   611,  7381,   354,   627,   119,  8631,  1242,  1116,   627,  2681,  2716, \n",
       "    636,   859,  7042,     4, 47859,  1409,   133, 47648,   771,     4,   495, 36252,   179, 45629,     6,   627,   459,  5234,   611,  7381,  7325,  9502,  6199,   261, \n",
       "    627, 11107, 27763, 25383, 35401,   463, 36600,   261,   627, 11107, 28644,   876,  3697,     4,   133,   459,  5234,   611,  7381,  7325,   506, 36609,   261,   627, \n",
       "  20401,  1116, 14699,   179, 21206, 45629,   463,   571,  7153, 11535,  3463, 42286,     4,     2]),\n",
       " 'word_segment_ids': Tensor(shape=[422], dtype=Int32, value= [0, 0, 0, 0, 0, 0, 0, 0, 0, 0, 0, 0, 0, 0, 0, 0, 0, 0, 0, 0, 0, 0, 0, 0, \n",
       "  0, 0, 0, 0, 0, 0, 0, 0, 0, 0, 0, 0, 0, 0, 0, 0, 0, 0, 0, 0, 0, 0, 0, 0, \n",
       "  0, 0, 0, 0, 0, 0, 0, 0, 0, 0, 0, 0, 0, 0, 0, 0, 0, 0, 0, 0, 0, 0, 0, 0, \n",
       "  0, 0, 0, 0, 0, 0, 0, 0, 0, 0, 0, 0, 0, 0, 0, 0, 0, 0, 0, 0, 0, 0, 0, 0, \n",
       "  0, 0, 0, 0, 0, 0, 0, 0, 0, 0, 0, 0, 0, 0, 0, 0, 0, 0, 0, 0, 0, 0, 0, 0, \n",
       "  0, 0, 0, 0, 0, 0, 0, 0, 0, 0, 0, 0, 0, 0, 0, 0, 0, 0, 0, 0, 0, 0, 0, 0, \n",
       "  0, 0, 0, 0, 0, 0, 0, 0, 0, 0, 0, 0, 0, 0, 0, 0, 0, 0, 0, 0, 0, 0, 0, 0, \n",
       "  0, 0, 0, 0, 0, 0, 0, 0, 0, 0, 0, 0, 0, 0, 0, 0, 0, 0, 0, 0, 0, 0, 0, 0, \n",
       "  0, 0, 0, 0, 0, 0, 0, 0, 0, 0, 0, 0, 0, 0, 0, 0, 0, 0, 0, 0, 0, 0, 0, 0, \n",
       "  0, 0, 0, 0, 0, 0, 0, 0, 0, 0, 0, 0, 0, 0, 0, 0, 0, 0, 0, 0, 0, 0, 0, 0, \n",
       "  0, 0, 0, 0, 0, 0, 0, 0, 0, 0, 0, 0, 0, 0, 0, 0, 0, 0, 0, 0, 0, 0, 0, 0, \n",
       "  0, 0, 0, 0, 0, 0, 0, 0, 0, 0, 0, 0, 0, 0, 0, 0, 0, 0, 0, 0, 0, 0, 0, 0, \n",
       "  0, 0, 0, 0, 0, 0, 0, 0, 0, 0, 0, 0, 0, 0, 0, 0, 0, 0, 0, 0, 0, 0, 0, 0, \n",
       "  0, 0, 0, 0, 0, 0, 0, 0, 0, 0, 0, 0, 0, 0, 0, 0, 0, 0, 0, 0, 0, 0, 0, 0, \n",
       "  0, 0, 0, 0, 0, 0, 0, 0, 0, 0, 0, 0, 0, 0, 0, 0, 0, 0, 0, 0, 0, 0, 0, 0, \n",
       "  0, 0, 0, 0, 0, 0, 0, 0, 0, 0, 0, 0, 0, 0, 0, 0, 0, 0, 0, 0, 0, 0, 0, 0, \n",
       "  0, 0, 0, 0, 0, 0, 0, 0, 0, 0, 0, 0, 0, 0, 0, 0, 0, 0, 0, 0, 0, 0, 0, 0, \n",
       "  0, 0, 0, 0, 0, 0, 0, 0, 0, 0, 0, 0, 0, 0])}"
      ]
     },
     "execution_count": 3,
     "metadata": {},
     "output_type": "execute_result"
    }
   ],
   "source": [
    "data_sample = next(data_set.create_dict_iterator())\n",
    "data_sample"
   ]
  },
  {
   "cell_type": "markdown",
   "id": "2f2cc2a8",
   "metadata": {},
   "source": [
    "# Model"
   ]
  },
  {
   "cell_type": "code",
   "execution_count": 4,
   "id": "ae1f52d5",
   "metadata": {},
   "outputs": [],
   "source": [
    "from readingcomprehension.models.luke import LukeForReadingComprehension, LukeEntityAwareAttentionModel\n",
    "import mindspore.common.dtype as mstype\n",
    "from model.bert_model import BertConfig\n",
    "from mindspore import context\n",
    "from model.luke import LukeModel, EntityAwareEncoder\n",
    "import numpy as np\n",
    "from mindspore import Tensor, context\n",
    "from mindspore import dtype as mstype\n",
    "import mindspore.ops as ops\n",
    "import mindspore.nn as nn\n",
    "from model.bert_model import BertOutput\n",
    "from mindspore.common.initializer import TruncatedNormal\n",
    "import math\n",
    "from mindspore.ops import composite as C\n",
    "import mindspore\n",
    "from mindspore.ops import operations as P\n",
    "context.set_context(mode=context.GRAPH_MODE, device_target=\"CPU\")"
   ]
  },
  {
   "cell_type": "code",
   "execution_count": 7,
   "id": "513cf6fa",
   "metadata": {},
   "outputs": [],
   "source": [
    "config = BertConfig()\n",
    "Luke_model = LukeForReadingComprehension(config)"
   ]
  },
  {
   "cell_type": "code",
   "execution_count": 8,
   "id": "4502ff4a",
   "metadata": {},
   "outputs": [],
   "source": [
    "op_stack = ops.Stack()\n",
    "word_ids = op_stack([data_sample[\"word_ids\"], data_sample[\"word_ids\"]])\n",
    "word_segment_ids = op_stack([data_sample[\"word_segment_ids\"], data_sample[\"word_segment_ids\"]])\n",
    "word_attention_mask = op_stack([data_sample[\"word_attention_mask\"], data_sample[\"word_attention_mask\"]])\n",
    "entity_ids = op_stack([data_sample[\"entity_ids\"], data_sample[\"entity_ids\"]])\n",
    "entity_position_ids = op_stack([data_sample[\"entity_position_ids\"], data_sample[\"entity_position_ids\"]])\n",
    "entity_segment_ids = op_stack([data_sample[\"entity_segment_ids\"], data_sample[\"entity_segment_ids\"]])\n",
    "entity_attention_mask = op_stack([data_sample[\"entity_attention_mask\"], data_sample[\"entity_attention_mask\"]])\n",
    "start_positions = op_stack([data_sample[\"start_positions\"], data_sample[\"start_positions\"]])\n",
    "end_positions = op_stack([data_sample[\"end_positions\"], data_sample[\"end_positions\"]])"
   ]
  },
  {
   "cell_type": "code",
   "execution_count": 9,
   "id": "475677b0",
   "metadata": {},
   "outputs": [
    {
     "data": {
      "text/plain": [
       "(Tensor(shape=[2], dtype=Float32, value= [6.04547405e+000, 6.04547405e+000]),\n",
       " Tensor(shape=[2, 422], dtype=Float32, value=\n",
       " [[4.01165873e-001, 3.96056533e-001, 4.01458025e-001 ... 4.10320163e-001, 4.11856383e-001, 3.84537429e-001],\n",
       "  [4.01165873e-001, 3.96056533e-001, 4.01458025e-001 ... 4.10320163e-001, 4.11856383e-001, 3.84537429e-001]]),\n",
       " Tensor(shape=[2, 422], dtype=Float32, value=\n",
       " [[4.01165873e-001, 3.96056533e-001, 4.01458025e-001 ... 4.10320163e-001, 4.11856383e-001, 3.84537429e-001],\n",
       "  [4.01165873e-001, 3.96056533e-001, 4.01458025e-001 ... 4.10320163e-001, 4.11856383e-001, 3.84537429e-001]]))"
      ]
     },
     "execution_count": 9,
     "metadata": {},
     "output_type": "execute_result"
    }
   ],
   "source": [
    "model = LukeForReadingComprehension(config)\n",
    "model.construct(word_ids,\n",
    "                word_segment_ids,\n",
    "                word_attention_mask,\n",
    "                entity_ids,\n",
    "                entity_position_ids,\n",
    "                entity_segment_ids,\n",
    "                entity_attention_mask,\n",
    "                start_positions,\n",
    "                end_positions\n",
    "                )"
   ]
  },
  {
   "cell_type": "code",
   "execution_count": null,
   "id": "8657310a",
   "metadata": {},
   "outputs": [],
   "source": []
  }
 ],
 "metadata": {
  "kernelspec": {
   "display_name": "Python 3 (ipykernel)",
   "language": "python",
   "name": "python3"
  },
  "language_info": {
   "codemirror_mode": {
    "name": "ipython",
    "version": 3
   },
   "file_extension": ".py",
   "mimetype": "text/x-python",
   "name": "python",
   "nbconvert_exporter": "python",
   "pygments_lexer": "ipython3",
   "version": "3.7.5"
  }
 },
 "nbformat": 4,
 "nbformat_minor": 5
}
